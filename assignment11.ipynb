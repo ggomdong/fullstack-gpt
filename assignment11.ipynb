{
 "cells": [
  {
   "cell_type": "code",
   "execution_count": 6,
   "metadata": {},
   "outputs": [
    {
     "name": "stdout",
     "output_type": "stream",
     "text": [
      "\n",
      "        -감독: 리처드 링클레이터\n",
      "        -출연진: 이단 호크, 줄리 델피\n",
      "        -장르: 로맨스, 드라마\n",
      "        -시리즈: 비포 선라이즈는 비포 선라이즈 시리즈의 첫 번째 영화로, 후속작으로 비포 선셋과 비포 미드나잇이 있다.\n",
      "        -시놉시스: 미국과 프랑스의 두 청년이 만나 하루 동안 빈티지 열차 안에서 서로에 대해 이야기하며 서로에 대한 관심을 키워가는 로맨틱한 이야기를 그린 영화입니다. 두 사람은 서로 다른 배경과 문화를 가지고 있지만, 서로에게 끌리고 마음을 열어가며 서로를 이해하고 사랑에 빠지게 됩니다. 이후 시리즈를 통해 그들의 이야기가 계속 전개되며, 관객들은 그들의 관계의 발전과 성장을 지켜보게 됩니다."
     ]
    },
    {
     "data": {
      "text/plain": [
       "AIMessageChunk(content='\\n        -감독: 리처드 링클레이터\\n        -출연진: 이단 호크, 줄리 델피\\n        -장르: 로맨스, 드라마\\n        -시리즈: 비포 선라이즈는 비포 선라이즈 시리즈의 첫 번째 영화로, 후속작으로 비포 선셋과 비포 미드나잇이 있다.\\n        -시놉시스: 미국과 프랑스의 두 청년이 만나 하루 동안 빈티지 열차 안에서 서로에 대해 이야기하며 서로에 대한 관심을 키워가는 로맨틱한 이야기를 그린 영화입니다. 두 사람은 서로 다른 배경과 문화를 가지고 있지만, 서로에게 끌리고 마음을 열어가며 서로를 이해하고 사랑에 빠지게 됩니다. 이후 시리즈를 통해 그들의 이야기가 계속 전개되며, 관객들은 그들의 관계의 발전과 성장을 지켜보게 됩니다.')"
      ]
     },
     "execution_count": 6,
     "metadata": {},
     "output_type": "execute_result"
    }
   ],
   "source": [
    "#영화 이름을 가지고 감독, 주요 출연진, 예산, 흥행 수익, 영화의 장르, 간단한 시놉시스 등 영화에 대한 정보로 답장하는 체인을 만드세요.\n",
    "# LLM은 항상 동일한 형식을 사용하여 응답해야 하며, 이를 위해서는 원하는 출력의 예시를 LLM에 제공해야 합니다.\n",
    "# 예제를 제공하려면 FewShotPromptTemplate 또는 FewShotChatMessagePromptTemplate을 사용하세요.\n",
    "\n",
    "from langchain.chat_models import ChatOpenAI\n",
    "from langchain.callbacks import StreamingStdOutCallbackHandler\n",
    "from langchain.prompts import ChatPromptTemplate\n",
    "from langchain.prompts.few_shot import FewShotChatMessagePromptTemplate\n",
    "\n",
    "\n",
    "chat = ChatOpenAI(\n",
    "    temperature=0.1,\n",
    "    streaming=True,\n",
    "    callbacks=[StreamingStdOutCallbackHandler()]\n",
    ")\n",
    "\n",
    "examples = [\n",
    "    {\n",
    "        \"movie\": \"설국열차\",\n",
    "        \"answer\": \"\"\"\n",
    "        -감독: 봉준호\n",
    "        -출연진: 송강호, 크리스 에반스, 틸다 스윈튼, 고아성 외\n",
    "        -예산: 40,000,000 달러\n",
    "        -흥행수익: 86,758,912 달러\n",
    "        -장르: SF, 액션, 드라마, 느와르, 디스토피아\n",
    "        -시놉시스: 새로운 빙하기, 그리고 설국 17년. 인류 마지막 생존지역 <설국열차> 기상 이변으로 모든 것이 꽁꽁 얼어붙은 지구. 살아남은 사람들을 태운 기차 한 대가 끝없이 궤도를 달리고 있다. 춥고 배고픈 사람들이 바글대는 빈민굴 같은 맨 뒤쪽의 꼬리칸, 그리고 선택된 사람들이 술과 마약까지 즐기며 호화로운 객실을 뒹굴고 있는 앞쪽칸. 열차 안의 세상은 결코 평등하지 않다. 기차가 달리기 시작한 17년 째, 꼬리칸의 젊은 지도자 커티스는 긴 세월 준비해 온 폭동을 일으킨다. 기차의 심장인 엔진을 장악, 꼬리칸을 해방시키고 마침내 기차 전체를 해방 시키기 위해 절대권력자 윌포드가 도사리고 있는 맨 앞쪽 엔진칸을 향해 질주하는 커티스와 꼬리칸 사람들. 그들 앞에 예기치 못한 상황들이 기다리고 있는데…\n",
    "        \"\"\"\n",
    "    },\n",
    "    {\n",
    "        \"movie\": \"메멘토\",\n",
    "        \"answer\": \"\"\"\n",
    "        -감독: 크리스토퍼 놀란\n",
    "        -출연진: 가이 피어스, 캐리앤 모스, 조 판토리아노 외\n",
    "        -예산: 4,500,000 달러\n",
    "        -흥행수익: 25,544,867 달러\n",
    "        -장르: 드라마, 미스터리, 범죄, 스릴러\n",
    "        -시놉시스: 아내가 살해당한 후, 10분밖에 기억 못하는 단기기억상실증에 걸린 남자가 사진, 메모, 문신으로 남긴 기록을 따라 범인을 쫓는 기억 추적 스릴러\n",
    "        \"\"\"\n",
    "    },\n",
    "    {\n",
    "        \"movie\": \"겟아웃\",\n",
    "        \"answer\": \"\"\"\n",
    "        -감독: 조던 필\n",
    "        -출연진: 대니얼 칼루야, 앨리슨 윌리엄스, 캐서린 키너 외\n",
    "        -예산: 4,500,000 달러\n",
    "        -흥행수익: 255,745,157 달러\n",
    "        -장르: 공포, 미스터리, 스릴러, 서스펜스\n",
    "        -시놉시스: 흑인 남자가 백인 여자친구 집에 초대 받으면서 벌어지는 이야기\n",
    "        \"\"\"\n",
    "    },\n",
    "]\n",
    "\n",
    "# 프롬프트 예제 작성\n",
    "example_prompt = ChatPromptTemplate.from_messages([\n",
    "    (\"human\", \"영화 {movie}에 대해 알려줘.\"),\n",
    "    (\"ai\", \"{answer}\")\n",
    "])\n",
    "\n",
    "# 예제 프롬프트와 예제 답변을 묶어서 프롬프트로 작성\n",
    "example_prompt = FewShotChatMessagePromptTemplate(\n",
    "    example_prompt=example_prompt,\n",
    "    examples=examples\n",
    ")\n",
    "\n",
    "# system 및 질문을 작성하고, 위에 작성된 예제를 부여하여 답변을 유도\n",
    "final_prompt = ChatPromptTemplate.from_messages([\n",
    "    (\"system\", \"당신은 세계적인 영화 전문가입니다.\"),\n",
    "    example_prompt,\n",
    "    (\"human\", \"영화 {movie}에 대해 알려줘.\")\n",
    "])\n",
    "\n",
    "chain = final_prompt | chat\n",
    "\n",
    "chain.invoke({\n",
    "    \"movie\": \"비포 선라이즈\"\n",
    "})"
   ]
  }
 ],
 "metadata": {
  "kernelspec": {
   "display_name": "venv",
   "language": "python",
   "name": "python3"
  },
  "language_info": {
   "codemirror_mode": {
    "name": "ipython",
    "version": 3
   },
   "file_extension": ".py",
   "mimetype": "text/x-python",
   "name": "python",
   "nbconvert_exporter": "python",
   "pygments_lexer": "ipython3",
   "version": "3.11.4"
  }
 },
 "nbformat": 4,
 "nbformat_minor": 2
}
