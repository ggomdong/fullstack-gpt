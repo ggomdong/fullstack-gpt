{
 "cells": [
  {
   "cell_type": "code",
   "execution_count": 5,
   "metadata": {},
   "outputs": [],
   "source": [
    "# assignment 10\n",
    "# 프로그래밍 언어에 대한 시를 쓰는 데 특화된 체인과 시를 설명하는 데 특화된 체인을 만드세요.\n",
    "# LCEL을 사용해 두 체인을 서로 연결합니다.\n",
    "# 최종 체인은 프로그래밍 언어의 이름을 받고 시와 그 설명으로 응답해야 합니다.\n",
    "# 모델로는 \"gpt-3.5-turbo\"를 사용하고 프롬프트에는 ChatPromptTemplate을 사용하세요.\n",
    "from langchain.prompts import ChatPromptTemplate\n",
    "from langchain.chat_models import ChatOpenAI\n",
    "from langchain.callbacks import StreamingStdOutCallbackHandler\n",
    "\n",
    "chat = ChatOpenAI(\n",
    "    temperature=0.1,\n",
    "    streaming=True,\n",
    "    callbacks=[StreamingStdOutCallbackHandler()]\n",
    ")\n",
    "\n",
    "writer_prompt = ChatPromptTemplate.from_messages([\n",
    "    (\"system\", \"당신은 하이쿠 작가입니다. 당신은 프로그래밍 언어에 관련된 하이쿠를 작성하는데 특화되어 있고, 당신이 작성한 하이쿠의 내용은 무척 재미있습니다. 당신은 한글로 하이쿠를 작성합니다.\"),\n",
    "    (\"human\", \"나는 {language} 에 관련된 하이쿠를 지어줘. 작성 후에는 한줄 띄어줘.\"),\n",
    "])\n",
    "\n",
    "writer_chain = writer_prompt | chat"
   ]
  },
  {
   "cell_type": "code",
   "execution_count": 6,
   "metadata": {},
   "outputs": [
    {
     "name": "stdout",
     "output_type": "stream",
     "text": [
      "플러터 코드는,\n",
      "화면을 아름답게,\n",
      "감탄이 절로 나온다.\n",
      "\n",
      "- - -이 하이쿠는 플러터 코드의 아름다움을 표현하고 있습니다. 화면을 구성하는 코드가 아름다움을 담고 있어서, 감탄이 절로 나오게 됩니다. 플러터로 만들어진 앱을 보면 마음이 따뜻해지고, 아름다움에 감탄할 수밖에 없는 것을 느낄 수 있습니다. 이 하이쿠는 플러터의 아름다움과 매력을 표현하고 있습니다."
     ]
    },
    {
     "data": {
      "text/plain": [
       "AIMessageChunk(content='이 하이쿠는 플러터 코드의 아름다움을 표현하고 있습니다. 화면을 구성하는 코드가 아름다움을 담고 있어서, 감탄이 절로 나오게 됩니다. 플러터로 만들어진 앱을 보면 마음이 따뜻해지고, 아름다움에 감탄할 수밖에 없는 것을 느낄 수 있습니다. 이 하이쿠는 플러터의 아름다움과 매력을 표현하고 있습니다.')"
      ]
     },
     "execution_count": 6,
     "metadata": {},
     "output_type": "execute_result"
    }
   ],
   "source": [
    "explainer_prompt = ChatPromptTemplate.from_messages([\n",
    "    (\"system\", \"당신은 하이쿠 전문가입니다. 당신은 하이쿠를 설명하는데 특화되어 있습니다. 당신의 하이쿠를 변경하지 않으며, 당신의 설명은 감동적입니다. 당신은 한글로 하이쿠를 설명합니다.\"),\n",
    "    (\"human\", \"{haiku}\")\n",
    "])\n",
    "\n",
    "explainer_chain = explainer_prompt | chat\n",
    "\n",
    "final_chain = {\"haiku\": writer_chain} | explainer_chain\n",
    "\n",
    "final_chain.invoke({\n",
    "    \"language\": \"플러터\",\n",
    "})"
   ]
  }
 ],
 "metadata": {
  "kernelspec": {
   "display_name": "venv",
   "language": "python",
   "name": "python3"
  },
  "language_info": {
   "codemirror_mode": {
    "name": "ipython",
    "version": 3
   },
   "file_extension": ".py",
   "mimetype": "text/x-python",
   "name": "python",
   "nbconvert_exporter": "python",
   "pygments_lexer": "ipython3",
   "version": "3.11.4"
  }
 },
 "nbformat": 4,
 "nbformat_minor": 2
}
